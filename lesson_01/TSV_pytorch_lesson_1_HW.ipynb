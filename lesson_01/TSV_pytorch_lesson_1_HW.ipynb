{
  "nbformat": 4,
  "nbformat_minor": 0,
  "metadata": {
    "colab": {
      "provenance": [],
      "gpuType": "T4",
      "authorship_tag": "ABX9TyNLJibS507pKVV089X5c8q4"
    },
    "kernelspec": {
      "name": "python3",
      "display_name": "Python 3"
    },
    "language_info": {
      "name": "python"
    },
    "gpuClass": "standard"
  },
  "cells": [
    {
      "cell_type": "code",
      "execution_count": 1,
      "metadata": {
        "colab": {
          "base_uri": "https://localhost:8080/"
        },
        "id": "mHlGVoPBRPXA",
        "outputId": "6e5cd8cc-c6c7-4b48-e872-e5966107cfaa"
      },
      "outputs": [
        {
          "output_type": "stream",
          "name": "stdout",
          "text": [
            "Looking in indexes: https://pypi.org/simple, https://us-python.pkg.dev/colab-wheels/public/simple/\n",
            "Requirement already satisfied: torch in /usr/local/lib/python3.10/dist-packages (2.0.0+cu118)\n",
            "Requirement already satisfied: torchvision in /usr/local/lib/python3.10/dist-packages (0.15.1+cu118)\n",
            "Requirement already satisfied: filelock in /usr/local/lib/python3.10/dist-packages (from torch) (3.12.0)\n",
            "Requirement already satisfied: typing-extensions in /usr/local/lib/python3.10/dist-packages (from torch) (4.5.0)\n",
            "Requirement already satisfied: sympy in /usr/local/lib/python3.10/dist-packages (from torch) (1.11.1)\n",
            "Requirement already satisfied: networkx in /usr/local/lib/python3.10/dist-packages (from torch) (3.1)\n",
            "Requirement already satisfied: jinja2 in /usr/local/lib/python3.10/dist-packages (from torch) (3.1.2)\n",
            "Requirement already satisfied: triton==2.0.0 in /usr/local/lib/python3.10/dist-packages (from torch) (2.0.0)\n",
            "Requirement already satisfied: cmake in /usr/local/lib/python3.10/dist-packages (from triton==2.0.0->torch) (3.25.2)\n",
            "Requirement already satisfied: lit in /usr/local/lib/python3.10/dist-packages (from triton==2.0.0->torch) (16.0.3)\n",
            "Requirement already satisfied: numpy in /usr/local/lib/python3.10/dist-packages (from torchvision) (1.22.4)\n",
            "Requirement already satisfied: requests in /usr/local/lib/python3.10/dist-packages (from torchvision) (2.27.1)\n",
            "Requirement already satisfied: pillow!=8.3.*,>=5.3.0 in /usr/local/lib/python3.10/dist-packages (from torchvision) (8.4.0)\n",
            "Requirement already satisfied: MarkupSafe>=2.0 in /usr/local/lib/python3.10/dist-packages (from jinja2->torch) (2.1.2)\n",
            "Requirement already satisfied: urllib3<1.27,>=1.21.1 in /usr/local/lib/python3.10/dist-packages (from requests->torchvision) (1.26.15)\n",
            "Requirement already satisfied: certifi>=2017.4.17 in /usr/local/lib/python3.10/dist-packages (from requests->torchvision) (2022.12.7)\n",
            "Requirement already satisfied: charset-normalizer~=2.0.0 in /usr/local/lib/python3.10/dist-packages (from requests->torchvision) (2.0.12)\n",
            "Requirement already satisfied: idna<4,>=2.5 in /usr/local/lib/python3.10/dist-packages (from requests->torchvision) (3.4)\n",
            "Requirement already satisfied: mpmath>=0.19 in /usr/local/lib/python3.10/dist-packages (from sympy->torch) (1.3.0)\n"
          ]
        }
      ],
      "source": [
        "!pip install torch torchvision"
      ]
    },
    {
      "cell_type": "code",
      "source": [
        "import torch"
      ],
      "metadata": {
        "id": "PrvjrWXZRhbL"
      },
      "execution_count": 1,
      "outputs": []
    },
    {
      "cell_type": "code",
      "source": [
        "# Создайте случайный FloatTensor размера 3x4x5\n",
        "a  = torch.randn(3, 4, 5)\n",
        "a, a.type()"
      ],
      "metadata": {
        "colab": {
          "base_uri": "https://localhost:8080/"
        },
        "id": "kzHSeI7NRi-a",
        "outputId": "87462e5b-2c8f-4aea-e8b2-5c83f81b9892"
      },
      "execution_count": 2,
      "outputs": [
        {
          "output_type": "execute_result",
          "data": {
            "text/plain": [
              "(tensor([[[-0.0923, -0.3867,  0.6600, -0.7016,  0.1524],\n",
              "          [-1.1745,  1.1931,  3.2735, -0.7840, -0.3274],\n",
              "          [-0.4123, -0.4956, -0.7821,  0.6297,  0.9069],\n",
              "          [ 1.5456, -1.1505, -1.7415,  0.0583, -0.2349]],\n",
              " \n",
              "         [[ 1.4254,  0.8426,  2.0674, -0.0787,  0.0302],\n",
              "          [ 0.6637,  0.7011,  0.5747, -0.5440,  2.2594],\n",
              "          [-0.7206, -0.7622,  0.4074, -0.5992,  0.4801],\n",
              "          [-1.1846,  0.3843, -2.1438,  0.3401,  0.2505]],\n",
              " \n",
              "         [[-1.0028, -1.1013, -0.2987,  0.2351,  0.3740],\n",
              "          [ 1.3914,  0.1673, -1.5087, -1.4032, -1.4639],\n",
              "          [ 0.0989,  0.6817, -0.4690,  0.3190,  0.5891],\n",
              "          [-0.0998, -2.2015, -0.7370, -1.7585, -1.2367]]]),\n",
              " 'torch.FloatTensor')"
            ]
          },
          "metadata": {},
          "execution_count": 2
        }
      ]
    },
    {
      "cell_type": "code",
      "source": [
        "# Выведите его форму (shape)\n",
        "a.shape"
      ],
      "metadata": {
        "colab": {
          "base_uri": "https://localhost:8080/"
        },
        "id": "WARZ4AeMSkpq",
        "outputId": "b113abfc-cf7c-4222-f779-5f0c440b4f29"
      },
      "execution_count": 3,
      "outputs": [
        {
          "output_type": "execute_result",
          "data": {
            "text/plain": [
              "torch.Size([3, 4, 5])"
            ]
          },
          "metadata": {},
          "execution_count": 3
        }
      ]
    },
    {
      "cell_type": "code",
      "source": [
        "# Приведите его к форме 6 X 10\n",
        "a = a.reshape(6, 10)"
      ],
      "metadata": {
        "id": "5vGi3xaFSqou"
      },
      "execution_count": 4,
      "outputs": []
    },
    {
      "cell_type": "code",
      "source": [
        "a.shape"
      ],
      "metadata": {
        "colab": {
          "base_uri": "https://localhost:8080/"
        },
        "id": "ODEtsnuvS8bI",
        "outputId": "c7966abf-b2be-4ac8-9a45-4bfcb485ea22"
      },
      "execution_count": 5,
      "outputs": [
        {
          "output_type": "execute_result",
          "data": {
            "text/plain": [
              "torch.Size([6, 10])"
            ]
          },
          "metadata": {},
          "execution_count": 5
        }
      ]
    },
    {
      "cell_type": "code",
      "source": [
        "# Умножьте его на вектор [1, 4, 2, 2, 1] поэлементно\n",
        "b = [1, 4, 2, 2, 1]\n",
        "b = torch.IntTensor(b)\n",
        "b, b.shape, b.type()"
      ],
      "metadata": {
        "colab": {
          "base_uri": "https://localhost:8080/"
        },
        "id": "SKR1oDajTWim",
        "outputId": "a73a54cf-6deb-443a-d96d-9a2c1a112159"
      },
      "execution_count": 6,
      "outputs": [
        {
          "output_type": "execute_result",
          "data": {
            "text/plain": [
              "(tensor([1, 4, 2, 2, 1], dtype=torch.int32),\n",
              " torch.Size([5]),\n",
              " 'torch.IntTensor')"
            ]
          },
          "metadata": {},
          "execution_count": 6
        }
      ]
    },
    {
      "cell_type": "code",
      "source": [
        "a.reshape(3, 4, 5) * b"
      ],
      "metadata": {
        "colab": {
          "base_uri": "https://localhost:8080/"
        },
        "id": "P1sSG_FyUAr0",
        "outputId": "bc155c8a-4e8a-4bfd-d7e5-486e55c299af"
      },
      "execution_count": 7,
      "outputs": [
        {
          "output_type": "execute_result",
          "data": {
            "text/plain": [
              "tensor([[[-0.0923, -1.5470,  1.3199, -1.4031,  0.1524],\n",
              "         [-1.1745,  4.7723,  6.5470, -1.5680, -0.3274],\n",
              "         [-0.4123, -1.9823, -1.5642,  1.2594,  0.9069],\n",
              "         [ 1.5456, -4.6020, -3.4831,  0.1165, -0.2349]],\n",
              "\n",
              "        [[ 1.4254,  3.3703,  4.1349, -0.1574,  0.0302],\n",
              "         [ 0.6637,  2.8045,  1.1493, -1.0881,  2.2594],\n",
              "         [-0.7206, -3.0489,  0.8148, -1.1983,  0.4801],\n",
              "         [-1.1846,  1.5373, -4.2876,  0.6802,  0.2505]],\n",
              "\n",
              "        [[-1.0028, -4.4051, -0.5975,  0.4702,  0.3740],\n",
              "         [ 1.3914,  0.6693, -3.0174, -2.8063, -1.4639],\n",
              "         [ 0.0989,  2.7267, -0.9380,  0.6380,  0.5891],\n",
              "         [-0.0998, -8.8059, -1.4739, -3.5170, -1.2367]]])"
            ]
          },
          "metadata": {},
          "execution_count": 7
        }
      ]
    },
    {
      "cell_type": "code",
      "source": [
        "# Умножьте тензор матрично на себя, чтобы результат был размерности 6x6\n",
        "mul = a.matmul(a.T)\n",
        "mul, mul.shape"
      ],
      "metadata": {
        "colab": {
          "base_uri": "https://localhost:8080/"
        },
        "id": "Vmiez1OgUT9C",
        "outputId": "0544001f-2f4e-4411-d787-5e48d1fd26af"
      },
      "execution_count": 8,
      "outputs": [
        {
          "output_type": "execute_result",
          "data": {
            "text/plain": [
              "(tensor([[15.3495, -9.4476,  2.5918, -4.3929, -4.5805, -3.8545],\n",
              "         [-9.4476,  9.0502, -3.9884,  1.8358,  6.5275,  4.5734],\n",
              "         [ 2.5918, -3.9884, 13.6861, -2.1333, -5.3526, -4.1323],\n",
              "         [-4.3929,  1.8358, -2.1333,  8.1810,  2.2857, -0.7460],\n",
              "         [-4.5805,  6.5275, -5.3526,  2.2857, 10.8548,  4.4681],\n",
              "         [-3.8545,  4.5734, -4.1323, -0.7460,  4.4681, 11.1646]]),\n",
              " torch.Size([6, 6]))"
            ]
          },
          "metadata": {},
          "execution_count": 8
        }
      ]
    },
    {
      "cell_type": "code",
      "source": [
        "# Посчитайте производную функции y = x**3 + z - 75t в точке (1, 0.5, 2)\n",
        "\n",
        "# руками по x: 3x**2 = 3 * 1 ** 2 = 3 * 1 = 3"
      ],
      "metadata": {
        "id": "nSwPQ2wdVVHf"
      },
      "execution_count": null,
      "outputs": []
    },
    {
      "cell_type": "code",
      "source": [
        "x = torch.FloatTensor([1])\n",
        "x "
      ],
      "metadata": {
        "colab": {
          "base_uri": "https://localhost:8080/"
        },
        "id": "aOnWwsD0Yyzf",
        "outputId": "b88516a1-046d-4e69-f2a8-01c02de2450f"
      },
      "execution_count": 10,
      "outputs": [
        {
          "output_type": "execute_result",
          "data": {
            "text/plain": [
              "tensor([1.])"
            ]
          },
          "metadata": {},
          "execution_count": 10
        }
      ]
    },
    {
      "cell_type": "code",
      "source": [
        "x.requires_grad_()"
      ],
      "metadata": {
        "colab": {
          "base_uri": "https://localhost:8080/"
        },
        "id": "x_N3ke9UZAUL",
        "outputId": "cf227f04-5473-4acb-8289-9c62a3388845"
      },
      "execution_count": 11,
      "outputs": [
        {
          "output_type": "execute_result",
          "data": {
            "text/plain": [
              "tensor([1.], requires_grad=True)"
            ]
          },
          "metadata": {},
          "execution_count": 11
        }
      ]
    },
    {
      "cell_type": "code",
      "source": [
        "z = torch.tensor(0.5)\n",
        "t = torch.tensor(2)"
      ],
      "metadata": {
        "id": "6g0cSzdKZNQD"
      },
      "execution_count": 12,
      "outputs": []
    },
    {
      "cell_type": "code",
      "source": [
        "y = x**3 + z - 75 * t"
      ],
      "metadata": {
        "id": "E8yepG36W_5q"
      },
      "execution_count": 13,
      "outputs": []
    },
    {
      "cell_type": "code",
      "source": [
        "y"
      ],
      "metadata": {
        "colab": {
          "base_uri": "https://localhost:8080/"
        },
        "id": "IfZmrE01XGtZ",
        "outputId": "59f59244-4d1f-4284-be57-417a869c0600"
      },
      "execution_count": 14,
      "outputs": [
        {
          "output_type": "execute_result",
          "data": {
            "text/plain": [
              "tensor([-148.5000], grad_fn=<SubBackward0>)"
            ]
          },
          "metadata": {},
          "execution_count": 14
        }
      ]
    },
    {
      "cell_type": "code",
      "source": [
        "x.grad"
      ],
      "metadata": {
        "id": "erBkSRG9XXB0"
      },
      "execution_count": 15,
      "outputs": []
    },
    {
      "cell_type": "code",
      "source": [
        "y.backward(x)"
      ],
      "metadata": {
        "id": "zZV2fjSSXhZH"
      },
      "execution_count": 16,
      "outputs": []
    },
    {
      "cell_type": "code",
      "source": [
        "x.grad"
      ],
      "metadata": {
        "colab": {
          "base_uri": "https://localhost:8080/"
        },
        "id": "70Sl7dSjZcI0",
        "outputId": "0d841fed-5669-4da8-c89e-cc0b30320671"
      },
      "execution_count": 17,
      "outputs": [
        {
          "output_type": "execute_result",
          "data": {
            "text/plain": [
              "tensor([3.])"
            ]
          },
          "metadata": {},
          "execution_count": 17
        }
      ]
    },
    {
      "cell_type": "code",
      "source": [
        "# Создайте единичный тензор размера 5x6\n",
        "e = torch.ones(5, 6)\n",
        "e"
      ],
      "metadata": {
        "colab": {
          "base_uri": "https://localhost:8080/"
        },
        "id": "2HN3kYibZvF7",
        "outputId": "5abe45d3-cd10-4886-91ae-8199ced737fe"
      },
      "execution_count": 18,
      "outputs": [
        {
          "output_type": "execute_result",
          "data": {
            "text/plain": [
              "tensor([[1., 1., 1., 1., 1., 1.],\n",
              "        [1., 1., 1., 1., 1., 1.],\n",
              "        [1., 1., 1., 1., 1., 1.],\n",
              "        [1., 1., 1., 1., 1., 1.],\n",
              "        [1., 1., 1., 1., 1., 1.]])"
            ]
          },
          "metadata": {},
          "execution_count": 18
        }
      ]
    },
    {
      "cell_type": "code",
      "source": [
        "# Переведите его в формат numpy\n",
        "e.numpy()"
      ],
      "metadata": {
        "colab": {
          "base_uri": "https://localhost:8080/"
        },
        "id": "ahn9UwhbZ_VK",
        "outputId": "5d96fb21-6727-44dd-eb4f-035be5a91ef5"
      },
      "execution_count": 21,
      "outputs": [
        {
          "output_type": "execute_result",
          "data": {
            "text/plain": [
              "array([[1., 1., 1., 1., 1., 1.],\n",
              "       [1., 1., 1., 1., 1., 1.],\n",
              "       [1., 1., 1., 1., 1., 1.],\n",
              "       [1., 1., 1., 1., 1., 1.],\n",
              "       [1., 1., 1., 1., 1., 1.]], dtype=float32)"
            ]
          },
          "metadata": {},
          "execution_count": 21
        }
      ]
    }
  ]
}